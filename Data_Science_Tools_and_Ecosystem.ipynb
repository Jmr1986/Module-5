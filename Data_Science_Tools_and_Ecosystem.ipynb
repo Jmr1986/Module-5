{
  "nbformat": 4,
  "nbformat_minor": 0,
  "metadata": {
    "colab": {
      "provenance": [],
      "authorship_tag": "ABX9TyPW150boFi6Gu+H3fgLJ8fL",
      "include_colab_link": true
    },
    "kernelspec": {
      "name": "python3",
      "display_name": "Python 3"
    },
    "language_info": {
      "name": "python"
    }
  },
  "cells": [
    {
      "cell_type": "markdown",
      "metadata": {
        "id": "view-in-github",
        "colab_type": "text"
      },
      "source": [
        "<a href=\"https://colab.research.google.com/github/Jmr1986/Module-5/blob/main/Data_Science_Tools_and_Ecosystem.ipynb\" target=\"_parent\"><img src=\"https://colab.research.google.com/assets/colab-badge.svg\" alt=\"Open In Colab\"/></a>"
      ]
    },
    {
      "cell_type": "markdown",
      "source": [
        "#Data Science Tools and *Ecosystem*"
      ],
      "metadata": {
        "id": "nHCK20EBhToI"
      }
    },
    {
      "cell_type": "markdown",
      "source": [
        "In this notebook, Data Science Tools and Ecosystem are summarized."
      ],
      "metadata": {
        "id": "3anIk1f3hbro"
      }
    },
    {
      "cell_type": "markdown",
      "source": [
        "Some of the popular languages that Data Scientists use are:\n",
        "1. Python\n",
        "2. Julia\n",
        "3. R\n",
        "4. SQL\n",
        "5. Java"
      ],
      "metadata": {
        "id": "ySbbJ6Hchne4"
      }
    },
    {
      "cell_type": "markdown",
      "source": [
        "**Objectives:**\n",
        "- Learn basics of Jupyer Notebook\n",
        "- Learn basics of Git/GitHub\n",
        "- List popular tools for data science\n",
        "- List popular languages and librarys."
      ],
      "metadata": {
        "id": "0UYX-20rlMjF"
      }
    },
    {
      "cell_type": "markdown",
      "source": [
        "Depending on language used, some of the commonly used libraries used by Data Scientists include:\n",
        "1. Pandas\n",
        "2. Scikit-learn\n",
        "3. Numpy\n",
        "4. Seaborn\n",
        "5. Plots.jl\n",
        "6. ggplot2\n",
        "7. Apache Spark"
      ],
      "metadata": {
        "id": "W438Fylqh3TB"
      }
    },
    {
      "cell_type": "markdown",
      "source": [
        "Data Science Tools\n",
        "- Matplotlib\n",
        "- Git Hub\n",
        "- *Tensorflow*"
      ],
      "metadata": {
        "id": "UuBpx8eli0X3"
      }
    },
    {
      "cell_type": "markdown",
      "source": [
        "### Below are a few examples of evaluating arithmetic expressions in Python.\n"
      ],
      "metadata": {
        "id": "WhFkouhLjeUv"
      }
    },
    {
      "cell_type": "code",
      "source": [
        "# This a simple arithmetic expression to mutiply then add integers.\n",
        "x = (3*4) + 5\n",
        "print(x)\n"
      ],
      "metadata": {
        "colab": {
          "base_uri": "https://localhost:8080/"
        },
        "id": "ibAEKuSQjnHj",
        "outputId": "e73b3b2f-0278-418e-f00f-0e1c2ea3c75e"
      },
      "execution_count": 3,
      "outputs": [
        {
          "output_type": "stream",
          "name": "stdout",
          "text": [
            "17\n"
          ]
        }
      ]
    },
    {
      "cell_type": "code",
      "source": [
        "# This will convert 200 minutes to hours by diving by 60.\n",
        "minutes = 200\n",
        "minh = 60\n",
        "\n",
        "# As 1 hr has 60 minutes, we must divide 200 by 60 to obtain the equivalency.\n",
        "\n",
        "y = minutes/minh\n",
        "print(y)"
      ],
      "metadata": {
        "colab": {
          "base_uri": "https://localhost:8080/"
        },
        "id": "hft5W83tj4Nd",
        "outputId": "8cacdc84-5246-43aa-cb35-8c8eef51a3ea"
      },
      "execution_count": 4,
      "outputs": [
        {
          "output_type": "stream",
          "name": "stdout",
          "text": [
            "3.3333333333333335\n"
          ]
        }
      ]
    },
    {
      "cell_type": "markdown",
      "source": [
        "##Author\n",
        "Juan Manuel Ruiz"
      ],
      "metadata": {
        "id": "yy4v4c3EmHn8"
      }
    },
    {
      "cell_type": "markdown",
      "source": [],
      "metadata": {
        "id": "pFKvu5dimQUn"
      }
    }
  ]
}